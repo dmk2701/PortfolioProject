# Create the years and durations lists

import numpy as np
years = list(np.arange(2011,2021,1))
durations = [103, 101, 99, 100, 100,95,95, 96, 93,90]
# Create a dictionary with the two lists
movie_dict = {'years': years, 'durations': durations}

# Print the dictionary
print(movie_dict)
